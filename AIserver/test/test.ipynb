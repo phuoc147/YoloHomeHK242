{
 "cells": [
  {
   "cell_type": "code",
   "execution_count": 1,
   "id": "a9e1dcd5",
   "metadata": {},
   "outputs": [
    {
     "name": "stderr",
     "output_type": "stream",
     "text": [
      "e:\\Anaconda\\envs\\my-conda\\Lib\\site-packages\\tqdm\\auto.py:21: TqdmWarning: IProgress not found. Please update jupyter and ipywidgets. See https://ipywidgets.readthedocs.io/en/stable/user_install.html\n",
      "  from .autonotebook import tqdm as notebook_tqdm\n"
     ]
    }
   ],
   "source": [
    "import time\n",
    "import torch\n",
    "import cv2\n",
    "from facenet_pytorch import MTCNN"
   ]
  },
  {
   "cell_type": "code",
   "execution_count": 20,
   "id": "fa553e61",
   "metadata": {},
   "outputs": [],
   "source": [
    "device = torch.device('cuda' if torch.cuda.is_available() else 'cpu')\n",
    "mtcnn = MTCNN(keep_all=True, device=device)\n",
    "\n",
    "# Load the image\n",
    "image_path = \"sample1.jpg\"  # replace with your image path\n",
    "image = cv2.imread(image_path)\n",
    "image_rgb = cv2.cvtColor(image, cv2.COLOR_BGR2RGB)"
   ]
  },
  {
   "cell_type": "code",
   "execution_count": 6,
   "id": "f034c74e",
   "metadata": {},
   "outputs": [],
   "source": [
    "images_10 = [image_rgb]"
   ]
  },
  {
   "cell_type": "code",
   "execution_count": 18,
   "id": "6d20f170",
   "metadata": {},
   "outputs": [],
   "source": [
    "#clean gpu\n",
    "torch.cuda.empty_cache()"
   ]
  },
  {
   "cell_type": "code",
   "execution_count": 22,
   "id": "e7b71a44",
   "metadata": {},
   "outputs": [
    {
     "name": "stdout",
     "output_type": "stream",
     "text": [
      "Batch processing time: 2.0475988388061523 seconds\n"
     ]
    }
   ],
   "source": [
    "# Measure the start time for batch processing\n",
    "start_time = time.time()\n",
    "\n",
    "# Detect faces in the batch of images using MTCNN\n",
    "boxes, probs, landmarks = mtcnn.detect(image_rgb, landmarks=True)\n",
    "\n",
    "# Measure the end time for batch processing\n",
    "end_time = time.time()\n",
    "\n",
    "# Calculate the time taken for batch processing\n",
    "processing_time = end_time - start_time\n",
    "print(f\"Batch processing time: {processing_time} seconds\")"
   ]
  }
 ],
 "metadata": {
  "kernelspec": {
   "display_name": "my-conda",
   "language": "python",
   "name": "python3"
  },
  "language_info": {
   "codemirror_mode": {
    "name": "ipython",
    "version": 3
   },
   "file_extension": ".py",
   "mimetype": "text/x-python",
   "name": "python",
   "nbconvert_exporter": "python",
   "pygments_lexer": "ipython3",
   "version": "3.12.3"
  }
 },
 "nbformat": 4,
 "nbformat_minor": 5
}
